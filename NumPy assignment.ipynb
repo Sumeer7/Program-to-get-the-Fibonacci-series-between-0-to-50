{
 "cells": [
  {
   "cell_type": "markdown",
   "metadata": {},
   "source": [
    "# 1. Create a null vector of size 10 but the fifth value which is 1."
   ]
  },
  {
   "cell_type": "code",
   "execution_count": 56,
   "metadata": {},
   "outputs": [
    {
     "data": {
      "text/plain": [
       "array([0., 0., 0., 0., 1., 0., 0., 0., 0., 0.])"
      ]
     },
     "execution_count": 56,
     "metadata": {},
     "output_type": "execute_result"
    }
   ],
   "source": [
    "import numpy as np\n",
    "arr=np.zeros(10)\n",
    "arr[4]=1\n",
    "arr"
   ]
  },
  {
   "cell_type": "markdown",
   "metadata": {},
   "source": [
    "# 2. Create a vector with values ranging from 10 to 49."
   ]
  },
  {
   "cell_type": "code",
   "execution_count": 1,
   "metadata": {},
   "outputs": [
    {
     "data": {
      "text/plain": [
       "array([10, 11, 12, 13, 14, 15, 16, 17, 18, 19, 20, 21, 22, 23, 24, 25, 26,\n",
       "       27, 28, 29, 30, 31, 32, 33, 34, 35, 36, 37, 38, 39, 40, 41, 42, 43,\n",
       "       44, 45, 46, 47, 48, 49])"
      ]
     },
     "execution_count": 1,
     "metadata": {},
     "output_type": "execute_result"
    }
   ],
   "source": [
    "b=np.arange(10,50)\n",
    "print(b)"
   ]
  },
  {
   "cell_type": "markdown",
   "metadata": {},
   "source": [
    "# 3. Create a 3x3 matrix with values ranging from 0 to 8"
   ]
  },
  {
   "cell_type": "code",
   "execution_count": 5,
   "metadata": {},
   "outputs": [
    {
     "name": "stdout",
     "output_type": "stream",
     "text": [
      "[[3 8 2]\n",
      " [6 0 4]\n",
      " [4 8 5]]\n"
     ]
    }
   ],
   "source": [
    "c=np.random.randint(0,9,(3,3))\n",
    "print(c)"
   ]
  },
  {
   "cell_type": "markdown",
   "metadata": {},
   "source": [
    "# 4. Find indices of non-zero elements from [1,2,0,0,4,0]"
   ]
  },
  {
   "cell_type": "code",
   "execution_count": 25,
   "metadata": {},
   "outputs": [
    {
     "name": "stdout",
     "output_type": "stream",
     "text": [
      "[1 2 4]\n"
     ]
    }
   ],
   "source": [
    "arr = np.array([1,2,0,0,4,0])\n",
    "print(arr[arr>0])"
   ]
  },
  {
   "cell_type": "markdown",
   "metadata": {},
   "source": [
    "# 5. Create a 10x10 array with random values and find the minimum and maximum values."
   ]
  },
  {
   "cell_type": "code",
   "execution_count": 44,
   "metadata": {},
   "outputs": [
    {
     "name": "stdout",
     "output_type": "stream",
     "text": [
      "[[0.91384998 0.88097694 0.83819918 0.57091054 0.18259162 0.274754\n",
      "  0.45161326 0.32225716 0.10971415 0.52040188]\n",
      " [0.53266121 0.66159551 0.66607575 0.38273752 0.12963036 0.17051937\n",
      "  0.23801672 0.11657134 0.64206767 0.64273923]\n",
      " [0.1448833  0.80641817 0.27647658 0.00337631 0.17849737 0.53336316\n",
      "  0.18462026 0.97754488 0.71879587 0.7523224 ]\n",
      " [0.61066296 0.46274727 0.06284916 0.08462578 0.39553989 0.0354574\n",
      "  0.82224985 0.21238203 0.58298069 0.5220084 ]\n",
      " [0.51587393 0.53960856 0.35818209 0.80300747 0.03905756 0.29909591\n",
      "  0.33633309 0.23470638 0.37900823 0.23688492]\n",
      " [0.76893741 0.72822642 0.32572593 0.57676097 0.64520903 0.80261332\n",
      "  0.24771499 0.52456367 0.00532241 0.79392516]\n",
      " [0.41842048 0.88583537 0.02253561 0.01306273 0.00472385 0.13427802\n",
      "  0.48021958 0.92905668 0.78970635 0.79710458]\n",
      " [0.83813978 0.73619397 0.79252911 0.02504891 0.59229674 0.33141077\n",
      "  0.09114009 0.71487147 0.60355525 0.89176   ]\n",
      " [0.78476905 0.03795093 0.99986523 0.51314813 0.91561799 0.57218896\n",
      "  0.02119042 0.01192377 0.15026409 0.80592287]\n",
      " [0.17132462 0.60130235 0.8024588  0.96795151 0.29596432 0.11710026\n",
      "  0.88967253 0.5306796  0.742903   0.58587873]]\n",
      "Minimum value is 0.0033763139385287744\n",
      "Maximum value is 0.9998652329188565\n"
     ]
    }
   ],
   "source": [
    "x = np.random.random((10,10))\n",
    "print(x)\n",
    "print(\"Minimum value is\",x.min())\n",
    "print(\"Maximum value is\",x.max())"
   ]
  },
  {
   "cell_type": "markdown",
   "metadata": {},
   "source": [
    "# 6. Create a random vector of size 30 and find the mean value."
   ]
  },
  {
   "cell_type": "code",
   "execution_count": 46,
   "metadata": {},
   "outputs": [
    {
     "name": "stdout",
     "output_type": "stream",
     "text": [
      "[0.54812619 0.25878503 0.42945944 0.39734913 0.30585231 0.1848462\n",
      " 0.50116575 0.75685088 0.17168679 0.21794086 0.90931763 0.60112212\n",
      " 0.70654317 0.36077597 0.51999185 0.53741361 0.11411137 0.1666294\n",
      " 0.48420748 0.82168424 0.28942928 0.06892076 0.70985792 0.64530147\n",
      " 0.67770635 0.69303954 0.25543497 0.97299569 0.23801002 0.85479065]\n",
      "Mean value is 0.4799782024130706\n"
     ]
    }
   ],
   "source": [
    "y=np.random.random(30)\n",
    "print(y)\n",
    "print(\"Mean value is\",y.mean())"
   ]
  },
  {
   "cell_type": "code",
   "execution_count": null,
   "metadata": {},
   "outputs": [],
   "source": []
  }
 ],
 "metadata": {
  "kernelspec": {
   "display_name": "Python 3",
   "language": "python",
   "name": "python3"
  },
  "language_info": {
   "codemirror_mode": {
    "name": "ipython",
    "version": 3
   },
   "file_extension": ".py",
   "mimetype": "text/x-python",
   "name": "python",
   "nbconvert_exporter": "python",
   "pygments_lexer": "ipython3",
   "version": "3.8.5"
  }
 },
 "nbformat": 4,
 "nbformat_minor": 4
}

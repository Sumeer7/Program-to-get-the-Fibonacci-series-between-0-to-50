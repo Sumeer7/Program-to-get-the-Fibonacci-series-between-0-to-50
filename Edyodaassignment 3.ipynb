{
 "cells": [
  {
   "cell_type": "code",
   "execution_count": 1,
   "metadata": {},
   "outputs": [
    {
     "name": "stdout",
     "output_type": "stream",
     "text": [
      "No. of Upper case characters : 3\n",
      "No. of Lower case Characters : 12\n"
     ]
    }
   ],
   "source": [
    "def str1(str):\n",
    "    c=0\n",
    "    k=0\n",
    "    for i in str:\n",
    "        if i.isupper():\n",
    "            c+=1\n",
    "        if i.islower():\n",
    "            k+=1\n",
    "    print(\"No. of Upper case characters :\",c)\n",
    "    print(\"No. of Lower case Characters :\",k)\n",
    "str1(\"The quick Brow Fox\")"
   ]
  },
  {
   "cell_type": "code",
   "execution_count": null,
   "metadata": {},
   "outputs": [],
   "source": []
  }
 ],
 "metadata": {
  "kernelspec": {
   "display_name": "Python 3",
   "language": "python",
   "name": "python3"
  },
  "language_info": {
   "codemirror_mode": {
    "name": "ipython",
    "version": 3
   },
   "file_extension": ".py",
   "mimetype": "text/x-python",
   "name": "python",
   "nbconvert_exporter": "python",
   "pygments_lexer": "ipython3",
   "version": "3.8.5"
  }
 },
 "nbformat": 4,
 "nbformat_minor": 4
}

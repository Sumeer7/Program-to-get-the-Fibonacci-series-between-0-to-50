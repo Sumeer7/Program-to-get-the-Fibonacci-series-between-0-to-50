{
 "cells": [
  {
   "cell_type": "code",
   "execution_count": 21,
   "metadata": {},
   "outputs": [
    {
     "name": "stdout",
     "output_type": "stream",
     "text": [
      "1234abcd\n",
      "Original String was:  1234abcd\n",
      "Reversed string is :  dcba4321\n"
     ]
    }
   ],
   "source": [
    "def str2(str):\n",
    "    string=\"\"\n",
    "    for i in str:\n",
    "        string=i+string\n",
    "    return(string)\n",
    "\n",
    "OriginalString=input()\n",
    "y=str2(OriginalString)\n",
    "print(\"Original String was: \",OriginalString)\n",
    "print(\"Reversed string is : \",y)"
   ]
  },
  {
   "cell_type": "code",
   "execution_count": 38,
   "metadata": {},
   "outputs": [
    {
     "name": "stdout",
     "output_type": "stream",
     "text": [
      "The quick Brow Fox\n",
      "No. of Upper case characters : 3\n",
      "No. of Lower case Characters : 12\n"
     ]
    }
   ],
   "source": [
    "def str1(str):\n",
    "    c=0\n",
    "    k=0\n",
    "    for i in str:\n",
    "        if i.isupper():\n",
    "            c+=1\n",
    "        if i.islower():\n",
    "            k+=1\n",
    "    print(\"No. of Upper case characters :\",c)\n",
    "    print(\"No. of Lower case Characters :\",k)\n",
    "s=input()\n",
    "q=str1()"
   ]
  },
  {
   "cell_type": "code",
   "execution_count": 48,
   "metadata": {},
   "outputs": [
    {
     "data": {
      "text/plain": [
       "20"
      ]
     },
     "execution_count": 48,
     "metadata": {},
     "output_type": "execute_result"
    }
   ],
   "source": [
    "def add(*a):\n",
    "    c=0\n",
    "    for i in a:\n",
    "        c+=i\n",
    "    return(c)\n",
    "add(8, 2, 3, 0, 7)\n"
   ]
  },
  {
   "cell_type": "code",
   "execution_count": null,
   "metadata": {},
   "outputs": [],
   "source": []
  }
 ],
 "metadata": {
  "kernelspec": {
   "display_name": "Python 3",
   "language": "python",
   "name": "python3"
  },
  "language_info": {
   "codemirror_mode": {
    "name": "ipython",
    "version": 3
   },
   "file_extension": ".py",
   "mimetype": "text/x-python",
   "name": "python",
   "nbconvert_exporter": "python",
   "pygments_lexer": "ipython3",
   "version": "3.8.5"
  }
 },
 "nbformat": 4,
 "nbformat_minor": 4
}

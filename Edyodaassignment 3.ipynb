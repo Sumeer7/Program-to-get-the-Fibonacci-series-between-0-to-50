{
 "cells": [
  {
   "cell_type": "code",
   "execution_count": 20,
   "metadata": {},
   "outputs": [
    {
     "name": "stdout",
     "output_type": "stream",
     "text": [
      "1234abcd\n",
      "Original String was:  1234abcd\n",
      "Reversed string is :  dcba4321\n"
     ]
    }
   ],
   "source": [
    "def str2(str):\n",
    "    string=\"\"\n",
    "    for i in str:\n",
    "        string=i+string\n",
    "    return(string)\n",
    "\n",
    "OriginalString=input()\n",
    "y=str2(OriginalString)\n",
    "print(\"Original String was: \",OriginalString)\n",
    "print(\"Reversed string is : \",y)"
   ]
  }
 ],
 "metadata": {
  "kernelspec": {
   "display_name": "Python 3",
   "language": "python",
   "name": "python3"
  },
  "language_info": {
   "codemirror_mode": {
    "name": "ipython",
    "version": 3
   },
   "file_extension": ".py",
   "mimetype": "text/x-python",
   "name": "python",
   "nbconvert_exporter": "python",
   "pygments_lexer": "ipython3",
   "version": "3.8.5"
  }
 },
 "nbformat": 4,
 "nbformat_minor": 4
}

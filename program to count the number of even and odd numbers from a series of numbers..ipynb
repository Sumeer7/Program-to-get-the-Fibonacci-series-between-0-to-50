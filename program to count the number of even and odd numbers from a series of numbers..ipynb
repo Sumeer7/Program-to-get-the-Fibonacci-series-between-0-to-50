{
 "cells": [
  {
   "cell_type": "code",
   "execution_count": 1,
   "metadata": {},
   "outputs": [
    {
     "name": "stdout",
     "output_type": "stream",
     "text": [
      "Number of even numbers : 4\n",
      "Number of odd numbers : 5\n"
     ]
    }
   ],
   "source": [
    "numbers = (1, 2 ,3, 4, 5, 6, 7, 8, 9)\n",
    "c=0\n",
    "# v=0\n",
    "for i in numbers:\n",
    "    if i %2 ==0:\n",
    "        c+=1\n",
    "#     elif i % 2!=0:\n",
    "#         v+=1\n",
    "print(\"Number of even numbers :\",c)\n",
    "print(\"Number of odd numbers :\",len(numbers)-c)\n",
    "# print(\"Number of odd numbers :\",v)"
   ]
  },
  {
   "cell_type": "code",
   "execution_count": null,
   "metadata": {},
   "outputs": [],
   "source": []
  }
 ],
 "metadata": {
  "kernelspec": {
   "display_name": "Python 3",
   "language": "python",
   "name": "python3"
  },
  "language_info": {
   "codemirror_mode": {
    "name": "ipython",
    "version": 3
   },
   "file_extension": ".py",
   "mimetype": "text/x-python",
   "name": "python",
   "nbconvert_exporter": "python",
   "pygments_lexer": "ipython3",
   "version": "3.8.5"
  }
 },
 "nbformat": 4,
 "nbformat_minor": 4
}

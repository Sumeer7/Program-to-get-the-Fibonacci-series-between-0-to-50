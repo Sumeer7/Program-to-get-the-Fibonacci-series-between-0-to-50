{
 "cells": [
  {
   "cell_type": "code",
   "execution_count": null,
   "metadata": {},
   "outputs": [],
   "source": [
    "x=\"the iiis the you the i the me the\"\n",
    "alpha2={}\n",
    "for i in x:\n",
    "    if i in alpha2:\n",
    "        alpha2[i]+=1\n",
    "    else:\n",
    "        alpha2[i]=1\n",
    "print(alpha2)"
   ]
  },
  {
   "cell_type": "code",
   "execution_count": null,
   "metadata": {},
   "outputs": [],
   "source": [
    "i=[('abc',5),('java',9)]\n",
    "print(type(i))\n",
    "s=dict(i)\n",
    "print(type(s),s)\n"
   ]
  },
  {
   "cell_type": "code",
   "execution_count": null,
   "metadata": {},
   "outputs": [],
   "source": [
    "alpha_dict ={}\n",
    "for i in range(ord('a'),ord('z')+1):\n",
    "    alpha_dict[chr(i)] = i\n",
    "print(alpha_dict)"
   ]
  },
  {
   "cell_type": "code",
   "execution_count": null,
   "metadata": {},
   "outputs": [],
   "source": [
    "persons = {'Name':'Mohit','Gender':'M','Profession':'teacher'},{'Name':'Kunal','Gender':'M','Profession':'engineer'}, {'Name':'MRashmi','Gender':'F','Profession':'doctor'}\n",
    "for x in persons:\n",
    "    if x['Profession']=='engineer':\n",
    "        if x['Gender']=='M':\n",
    "            print('engineer bhiya')\n",
    "        else:\n",
    "            print(\"didi\")\n",
    "    elif x['Profession']=='doctor':\n",
    "        if x['Name'][0]=='M':\n",
    "            print(\"doctor M\")\n",
    "        else:\n",
    "            print(\"doctor\")\n",
    "    elif x['Profession']=='actor':\n",
    "        if x['Name'][-1]=='h':\n",
    "            print(\"actor\")\n",
    "        else:\n",
    "            print('lier')\n",
    "    else:\n",
    "        print(\"Wow what do you actually do??\")"
   ]
  },
  {
   "cell_type": "code",
   "execution_count": null,
   "metadata": {},
   "outputs": [],
   "source": [
    "students=[{\"name\":\"a\",\"subject\":\"phy\",\"marks\":90},\n",
    "         {\"name\":\"b\",\"subject\":\"chemistry\",\"marks\":100},\n",
    "         {\"name\":\"c\",\"subject\":\"maths\",\"marks\":95}]\n",
    "vowels=\"aeiou\"\n",
    "marks=0\n",
    "for s in students:\n",
    "    for v in vowels:\n",
    "        if v in s[\"subject\"]:\n",
    "            marks+=s[\"marks\"]\n",
    "            break\n",
    "print(marks)"
   ]
  },
  {
   "cell_type": "code",
   "execution_count": null,
   "metadata": {},
   "outputs": [],
   "source": [
    "x=\"applee\"\n",
    "alpha2={}\n",
    "for i in x:\n",
    "    if i in alpha2:\n",
    "        alpha2[i]+=1\n",
    "    else:\n",
    "        alpha2[i]=1\n",
    "print(alpha2)"
   ]
  },
  {
   "cell_type": "code",
   "execution_count": null,
   "metadata": {},
   "outputs": [],
   "source": [
    "x=\"arrcaaaaccffffqqqqqqqqqqqqqqqqqqqqq\"\n",
    "alpha2={}\n",
    "for i in x:\n",
    "    if i in alpha2:\n",
    "        alpha2[i]+=1\n",
    "    else:\n",
    "        alpha2[i]=1\n",
    "print(alpha2)"
   ]
  },
  {
   "cell_type": "code",
   "execution_count": null,
   "metadata": {},
   "outputs": [],
   "source": [
    "def f(n):\n",
    "    return n+25\n",
    "f(5)\n",
    "print(n)"
   ]
  },
  {
   "cell_type": "code",
   "execution_count": null,
   "metadata": {},
   "outputs": [],
   "source": [
    "print('{:,}'.format(1223334444))"
   ]
  },
  {
   "cell_type": "code",
   "execution_count": 1,
   "metadata": {},
   "outputs": [],
   "source": [
    "def print1():\n",
    "    print(\"=\"*50)\n",
    "    print(\"Input1: \",input1)\n",
    "    print(\"Input2: \",input2)\n",
    "    print(\"Output: \",len(se))\n",
    "    print(\"Reason: The Output is\",len(se),\"since the following\",len(se),\"lines can drawn\",tuple(se))\n",
    "def print2():\n",
    "    print(\"Input1: \",input1)\n",
    "    print(\"Input2: \",input2)\n",
    "    print(\"Output: \",\"invalid input\")\n",
    "    print(\"Reason: The Output is invalid because edges are more then number of nodes or there is 0 \")\n",
    "    print()   "
   ]
  },
  {
   "cell_type": "code",
   "execution_count": 19,
   "metadata": {},
   "outputs": [
    {
     "name": "stdout",
     "output_type": "stream",
     "text": [
      "input1 :a\n",
      "====================================================================================================\n",
      "Invalid input as your are giving improper input in input1 or in input2 or there is negative number in input2\n"
     ]
    }
   ],
   "source": [
    "def set_matrix(x):\n",
    "    input3=x[2:-2]\n",
    "    e=\"\"\n",
    "    for i in input3:\n",
    "        if  i==\"}\" or i==\",\":\n",
    "            continue\n",
    "        else:\n",
    "            e=e+i\n",
    "    e=e.split(\"{\")\n",
    "    temp4=[]\n",
    "    cout=0\n",
    "    while cout!=2:\n",
    "        a=[]\n",
    "        for i in e[cout]:\n",
    "            a.append(int(i))\n",
    "        temp4.append(a)\n",
    "        cout+=1\n",
    "    return(temp4)\n",
    "\n",
    "\n",
    "\n",
    "try:\n",
    "    input1=int(input(\"input1 :\"))\n",
    "    input2=input(\"input2 :\")\n",
    "    temp4=set_matrix(input2)\n",
    "    zipped=list(zip(temp4[0],temp4[1]))\n",
    "    tempo=[]\n",
    "    for i in zipped:\n",
    "        if ((i[0])<1 or (i[1])<1):\n",
    "            tempo.append(\"m\")\n",
    "            break\n",
    "\n",
    "    if ((input1+1 not in temp4[0]) and (input1+1 not in temp4[1])) and (\"m\" not in tempo):\n",
    "        zipp=list(zip(temp4[0],temp4[1]))\n",
    "        se=[]\n",
    "        for i in zipp:\n",
    "            if ((i not in se) and (i[::-1] not in se)):\n",
    "                se.append(i)\n",
    "        print1()\n",
    "\n",
    "    elif ((input1+1 in temp4[0]) or (input1+1 in temp4[1])) or (\"m\" in tempo):\n",
    "        print2()     \n",
    "    \n",
    "except Exception as e:\n",
    "    print(\"=\"*100)\n",
    "    print(\"Invalid input as your are giving improper input in input1 or in input2 or there is negative number in input2\")\n",
    "\n",
    "# {{1,1,1,1},{1,2,3,4}}"
   ]
  },
  {
   "cell_type": "code",
   "execution_count": null,
   "metadata": {},
   "outputs": [],
   "source": []
  }
 ],
 "metadata": {
  "kernelspec": {
   "display_name": "Python 3",
   "language": "python",
   "name": "python3"
  },
  "language_info": {
   "codemirror_mode": {
    "name": "ipython",
    "version": 3
   },
   "file_extension": ".py",
   "mimetype": "text/x-python",
   "name": "python",
   "nbconvert_exporter": "python",
   "pygments_lexer": "ipython3",
   "version": "3.8.5"
  }
 },
 "nbformat": 4,
 "nbformat_minor": 4
}

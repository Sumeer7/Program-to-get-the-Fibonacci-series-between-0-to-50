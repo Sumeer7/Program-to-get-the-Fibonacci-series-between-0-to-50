{
 "cells": [
  {
   "cell_type": "code",
   "execution_count": 56,
   "metadata": {},
   "outputs": [
    {
     "name": "stdout",
     "output_type": "stream",
     "text": [
      "[(2, 1), (1, 2), (2, 3), (4, 4), (2, 5)]\n"
     ]
    }
   ],
   "source": [
    "def takesec(e):\n",
    "    return e[1]\n",
    "c= [(2, 5), (1, 2), (4, 4), (2, 3), (2, 1)]\n",
    "c.sort(key=takesec)\n",
    "print(c)"
   ]
  },
  {
   "cell_type": "code",
   "execution_count": 57,
   "metadata": {},
   "outputs": [
    {
     "name": "stdout",
     "output_type": "stream",
     "text": [
      "Welcome to Mirror Dimension  sumeer\n",
      "\n",
      "original string is=  sumeer\n",
      "Resersed string is=  reemus\n"
     ]
    }
   ],
   "source": [
    "s=input(\"Welcome to Mirror Dimension  \")\n",
    "print()\n",
    "str1=\"\"\n",
    "for i in s:\n",
    "    str1=i+str1\n",
    "print(\"original string is= \",s)\n",
    "print(\"Resersed string is= \",str1)"
   ]
  },
  {
   "cell_type": "code",
   "execution_count": null,
   "metadata": {},
   "outputs": [],
   "source": []
  }
 ],
 "metadata": {
  "kernelspec": {
   "display_name": "Python 3",
   "language": "python",
   "name": "python3"
  },
  "language_info": {
   "codemirror_mode": {
    "name": "ipython",
    "version": 3
   },
   "file_extension": ".py",
   "mimetype": "text/x-python",
   "name": "python",
   "nbconvert_exporter": "python",
   "pygments_lexer": "ipython3",
   "version": "3.8.5"
  }
 },
 "nbformat": 4,
 "nbformat_minor": 4
}
